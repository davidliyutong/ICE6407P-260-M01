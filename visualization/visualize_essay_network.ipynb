{
 "cells": [
  {
   "cell_type": "code",
   "execution_count": null,
   "metadata": {
    "pycharm": {
     "name": "#%%\n"
    }
   },
   "outputs": [],
   "source": [
    "from pyvis.network import Network\n",
    "import networkx as nx\n",
    "import sys\n",
    "import matplotlib.pyplot as plt\n",
    "from pyecharts import options as opts\n",
    "from pyecharts.charts import Graph\n",
    "import tqdm\n",
    "import math\n",
    "sys.path.append('../')\n",
    "from src.utils.io import read_abstracts, read_authors, read_graph"
   ]
  },
  {
   "cell_type": "code",
   "execution_count": null,
   "metadata": {
    "pycharm": {
     "name": "#%%\n"
    }
   },
   "outputs": [],
   "source": [
    "G = read_graph('../data/edgelist.txt')\n",
    "G_SUB = G.subgraph(range(0,1000))"
   ]
  },
  {
   "cell_type": "code",
   "execution_count": null,
   "metadata": {
    "pycharm": {
     "name": "#%%\n"
    }
   },
   "outputs": [],
   "source": [
    "# nt = Network('1024px', '1024px')\n",
    "# nt.from_nx(G)\n",
    "# nt.show('nx.html')"
   ]
  },
  {
   "cell_type": "code",
   "execution_count": null,
   "metadata": {
    "pycharm": {
     "name": "#%%\n"
    }
   },
   "outputs": [],
   "source": [
    "def draw_graph(tag, graph: nx.Graph, figsize=(10,10),):\n",
    "    fig = plt.figure(figsize=figsize)\n",
    "    ax = fig.add_subplot(111)\n",
    "    ax.set_title(tag)\n",
    "    pos = nx.spring_layout(graph)\n",
    "    nx.draw_networkx_nodes(graph, pos=pos, node_size=0.1)\n",
    "    nx.draw_networkx_edges(graph, pos=pos)\n",
    "    nx.draw_networkx_labels(graph, pos=pos, font_size=0.1)\n",
    "    plt.savefig(f'{tag}.svg')\n",
    "    plt.show()\n"
   ]
  },
  {
   "cell_type": "code",
   "execution_count": null,
   "metadata": {
    "pycharm": {
     "name": "#%%\n"
    }
   },
   "outputs": [],
   "source": [
    "# # draw_graph('essay_network', G)\n",
    "# draw_graph('essay_network', G_SUB)\n"
   ]
  },
  {
   "cell_type": "code",
   "execution_count": null,
   "metadata": {
    "pycharm": {
     "name": "#%%\n"
    }
   },
   "outputs": [],
   "source": [
    "def draw_echart_graph(tag, graph: nx.Graph, node_size=0.1, link_value=1, node_repulsion=(50,200)):\n",
    "    nodes_data = [opts.GraphNode(name=int(node),\n",
    "                                 category=1,\n",
    "                                 symbol_size=math.pow(node_size * len(graph[node].keys()), 0.8), \n",
    "                                 label_opts=opts.LabelOpts(is_show=False, \n",
    "                                                           color=\"#000\")) for node in graph.nodes]\n",
    "    links_data = [opts.GraphLink(source=link[0], target=link[1], value=link_value) for link in graph.edges]\n",
    "    categories=[\n",
    "        {\"color\":\"#000\", \"symbol\":\"rect\"},\n",
    "        {\"color\":\"#000\"}\n",
    "    ]\n",
    "    c = (\n",
    "        Graph(init_opts=opts.InitOpts(width=\"3840px\", height=\"3840px\"))\n",
    "            .add(\n",
    "            \"\",\n",
    "            nodes_data,\n",
    "            links_data,\n",
    "            is_draggable=True,\n",
    "            layout=\"force\",\n",
    "            is_focusnode=True,\n",
    "            categories=categories,\n",
    "            repulsion=node_repulsion,\n",
    "            edge_label=opts.LabelOpts(\n",
    "                is_show=False, position=\"middle\", formatter=\"{b} 's data: {c}\"\n",
    "            ),\n",
    "            linestyle_opts=opts.LineStyleOpts(width=0.3, opacity=0.7),\n",
    "        )\n",
    "            .set_global_opts(\n",
    "            title_opts=opts.TitleOpts(title=f\"{tag}\"),\n",
    "        )\n",
    "            .render(f\"{tag}.html\")\n",
    "    )"
   ]
  },
  {
   "cell_type": "code",
   "execution_count": null,
   "metadata": {
    "pycharm": {
     "name": "#%%\n"
    }
   },
   "outputs": [],
   "source": [
    "draw_echart_graph(f'essay_network_0_200000', G.subgraph(range(0, 4000)))"
   ]
  },
  {
   "cell_type": "code",
   "execution_count": null,
   "metadata": {
    "pycharm": {
     "name": "#%%\n"
    }
   },
   "outputs": [],
   "source": [
    "def chunks(n, b):\n",
    "    \"\"\"Yield successive n-sized chunks from l.\"\"\"\n",
    "    for i in range(0, n//b + 1):\n",
    "        yield i * b, min((i+1) * b, n)"
   ]
  },
  {
   "cell_type": "code",
   "execution_count": null,
   "metadata": {
    "pycharm": {
     "name": "#%%\n"
    }
   },
   "outputs": [],
   "source": [
    "# with tqdm.tqdm(range(8)) as pbar:\n",
    "#     for low, high in chunks(G.number_of_nodes(),20000):\n",
    "#         draw_echart_graph(f'essay_network_{low}_{high}', G.subgraph(range(low, high)))\n",
    "#         pbar.update()"
   ]
  },
  {
   "cell_type": "code",
   "execution_count": null,
   "metadata": {
    "pycharm": {
     "name": "#%%\n"
    }
   },
   "outputs": [],
   "source": [
    "x = G.subgraph(range(10000,20000))"
   ]
  },
  {
   "cell_type": "code",
   "execution_count": null,
   "metadata": {
    "pycharm": {
     "name": "#%%\n"
    }
   },
   "outputs": [],
   "source": [
    "nt = Network('1024px', '1024px')\n",
    "nt.from_nx(G.subgraph(range(0, 20000)))\n",
    "nt.show('nx.html')"
   ]
  }
 ],
 "metadata": {
  "interpreter": {
   "hash": "1bda4f474e3d53175b14b5fd1c367c33c09318faeb73386e4cf162eec798b836"
  },
  "kernelspec": {
   "display_name": "Python 3.9.2 ('mlprepro')",
   "language": "python",
   "name": "python3"
  },
  "language_info": {
   "codemirror_mode": {
    "name": "ipython",
    "version": 3
   },
   "file_extension": ".py",
   "mimetype": "text/x-python",
   "name": "python",
   "nbconvert_exporter": "python",
   "pygments_lexer": "ipython3",
   "version": "3.8.10"
  },
  "orig_nbformat": 4
 },
 "nbformat": 4,
 "nbformat_minor": 2
}