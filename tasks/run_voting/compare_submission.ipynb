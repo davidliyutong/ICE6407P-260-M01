{
 "cells": [
  {
   "cell_type": "code",
   "execution_count": null,
   "metadata": {
    "collapsed": true,
    "pycharm": {
     "name": "#%%\n"
    }
   },
   "outputs": [],
   "source": [
    "import csv\n",
    "import numpy as np\n",
    "import pandas as pd\n",
    "import matplotlib.pyplot as plt\n",
    "from torch.nn.functional import binary_cross_entropy\n",
    "import torch"
   ]
  },
  {
   "cell_type": "code",
   "execution_count": null,
   "metadata": {
    "pycharm": {
     "name": "#%%\n"
    }
   },
   "outputs": [],
   "source": [
    "old_submission = pd.read_csv('./old_submission.csv').to_numpy()[:,1]\n",
    "new_submission = pd.read_csv('./old_submission.csv').to_numpy()[:,1]\n"
   ]
  },
  {
   "cell_type": "code",
   "execution_count": null,
   "metadata": {
    "pycharm": {
     "name": "#%%\n"
    }
   },
   "outputs": [],
   "source": [
    "plt.hist(old_submission, bins=200)\n",
    "plt.show()\n",
    "plt.hist(new_submission, bins=200)\n",
    "plt.show()"
   ]
  },
  {
   "cell_type": "code",
   "execution_count": null,
   "metadata": {
    "pycharm": {
     "name": "#%%\n"
    }
   },
   "outputs": [],
   "source": [
    "binary_cross_entropy(torch.tensor(old_submission, dtype=torch.float32), torch.tensor(new_submission, dtype=torch.float32))"
   ]
  },
  {
   "cell_type": "code",
   "execution_count": null,
   "metadata": {
    "pycharm": {
     "name": "#%%\n"
    }
   },
   "outputs": [],
   "source": [
    "res = np.copy(old_submission)"
   ]
  },
  {
   "cell_type": "code",
   "execution_count": null,
   "metadata": {
    "pycharm": {
     "name": "#%%\n"
    }
   },
   "outputs": [],
   "source": [
    "res[res < 0.05] = 0\n",
    "res[res > 0.9] = 1"
   ]
  },
  {
   "cell_type": "code",
   "execution_count": null,
   "metadata": {
    "pycharm": {
     "name": "#%%\n"
    }
   },
   "outputs": [],
   "source": [
    "plt.hist(res, bins=200)\n",
    "plt.show()"
   ]
  },
  {
   "cell_type": "code",
   "execution_count": null,
   "metadata": {
    "pycharm": {
     "name": "#%%\n"
    }
   },
   "outputs": [],
   "source": [
    "from typing import Union\n",
    "import tqdm, os\n",
    "def generate_submission(output_dir: str, pred: Union[np.ndarray, torch.Tensor], tag: str = \"\"):\n",
    "    if not (len(pred.shape) == 1 or (len(pred.shape) == 2 and pred.shape[1] == 1)):\n",
    "        print(f\"Expect pred to be a vector\")\n",
    "    if not pred.shape[0] == 106692:\n",
    "        print(f\"Expect pred to have length 106692 but have {pred.shape[0]}\")\n",
    "\n",
    "    if isinstance(pred, torch.Tensor):\n",
    "        pred = pred.detach().cpu().numpy()\n",
    "\n",
    "    if not os.path.exists(output_dir):\n",
    "        os.makedirs(output_dir)\n",
    "\n",
    "    results = zip(range(len(pred)), pred)\n",
    "    with tqdm.tqdm(range(len(pred))) as pbar:\n",
    "        with open(os.path.join(output_dir, f'{\"_\".join([tag, \"submission\"])}.csv' if len(tag) > 0 else 'submission.csv'), 'w') as f:\n",
    "            f.write('id,predicted\\n')\n",
    "            for idx, row in enumerate(results):\n",
    "                f.write(f\"{row[0]},{row[1]}\\n\")\n",
    "                if idx % 1e3 == 0: pbar.update(1e3)"
   ]
  },
  {
   "cell_type": "code",
   "execution_count": null,
   "metadata": {
    "pycharm": {
     "name": "#%%\n"
    }
   },
   "outputs": [],
   "source": [
    "generate_submission('./', res, 'clipped')"
   ]
  },
  {
   "cell_type": "code",
   "execution_count": null,
   "metadata": {
    "pycharm": {
     "name": "#%%\n"
    }
   },
   "outputs": [],
   "source": []
  }
 ],
 "metadata": {
  "kernelspec": {
   "display_name": "Python 3",
   "language": "python",
   "name": "python3"
  },
  "language_info": {
   "codemirror_mode": {
    "name": "ipython",
    "version": 3
   },
   "file_extension": ".py",
   "mimetype": "text/x-python",
   "name": "python",
   "nbconvert_exporter": "python",
   "pygments_lexer": "ipython3",
   "version": "3.9.2"
  }
 },
 "nbformat": 4,
 "nbformat_minor": 0
}